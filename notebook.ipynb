{
 "cells": [
  {
   "cell_type": "markdown",
   "id": "1325df32",
   "metadata": {},
   "source": [
    "# Creating a virtual environment  \n",
    "When creating the virtual environment, I ran into this issue:    \n",
    "\n",
    "![alt text](error.png)  \n",
    "  \n",
    "To fix this, I had to change the execution policy to RemoteSigned (taken from this website: https://realpython.com/python-coding-setup-windows/#loosening-your-execution-policy)."
   ]
  },
  {
   "cell_type": "markdown",
   "id": "4ab141d1",
   "metadata": {},
   "source": [
    "# Editing the bookDAO.py and rest_server.py\n",
    "I copied the bookDAO.py from the WSAA-Courseware code folder and adjusted it (with help from ai) for it to be used with pymysql isntead of mysql-connector (simply because I had used it before for other assignments and was more used to it).  \n",
    "  \n",
    "The prompts consisted of sending the code asking for adjustments to convert it into mysql, whilst including any explanations to any changes to code (minor or major) to make it easier to understand and use for the future (just so I can understand it better).  \n",
    "  \n",
    "I also did this for the rest_server.py, and when stumped with code that wasn't working, would use chatgpt to help debug it and test, or look for ways to simplify it and reduce repetition"
   ]
  },
  {
   "cell_type": "markdown",
   "id": "c4e19163",
   "metadata": {},
   "source": [
    "# Bookviewer, ajaxcalls, rest_server.py  \n",
    "This content is very new to me and I ended up relying a lot on ai prompting and looking through the browser console to navigate through errors for getting it to work, such as needing to set the static folder for the ajaxcalls.js in order for the book list to be listed on bookviewer, or needing to convert the price into an integer so it doesnt try to display as a string.  \n",
    "  \n",
    "Templates were mostly taken from the labs and then adjusted and tweaked.  "
   ]
  }
 ],
 "metadata": {
  "language_info": {
   "name": "python"
  }
 },
 "nbformat": 4,
 "nbformat_minor": 5
}
